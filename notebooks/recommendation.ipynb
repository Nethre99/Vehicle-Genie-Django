{
 "cells": [
  {
   "cell_type": "markdown",
   "metadata": {},
   "source": [
    "## Recommendation Tests to Count accuracy and other stuffs"
   ]
  },
  {
   "cell_type": "code",
   "execution_count": 18,
   "metadata": {
    "ExecuteTime": {
     "start_time": "2023-05-04T21:03:10.201594Z",
     "end_time": "2023-05-04T21:03:10.252640Z"
    }
   },
   "outputs": [],
   "source": [
    "# Import django for jupyter file to import other stuff\n",
    "from django_for_jupyter import init_django\n",
    "init_django(\"VehicleGenie_V1\")"
   ]
  },
  {
   "cell_type": "code",
   "execution_count": 19,
   "metadata": {
    "ExecuteTime": {
     "start_time": "2023-05-04T21:03:10.254762Z",
     "end_time": "2023-05-04T21:03:10.267339Z"
    }
   },
   "outputs": [],
   "source": [
    "# Importing necessary models and modules\n",
    "from app.models import vehicles, UserVehicle\n",
    "\n",
    "from sklearn.metrics.pairwise import cosine_similarity\n",
    "from django_pandas.io import read_frame\n",
    "from sklearn.metrics import precision_score, recall_score, f1_score\n",
    "import pandas as panda\n",
    "import numpy as np"
   ]
  },
  {
   "cell_type": "markdown",
   "metadata": {},
   "source": [
    "#### Setup the variables"
   ]
  },
  {
   "cell_type": "markdown",
   "metadata": {},
   "source": [
    "### Import datasets from db and convert into data frames"
   ]
  },
  {
   "cell_type": "code",
   "execution_count": 20,
   "metadata": {
    "ExecuteTime": {
     "start_time": "2023-05-04T21:03:10.270334Z",
     "end_time": "2023-05-04T21:03:10.324100Z"
    }
   },
   "outputs": [],
   "source": [
    "# Import user vehicle db table as a query set\n",
    "userVehicle = UserVehicle.objects.all()\n",
    "vehicleQS = vehicles.objects.all()"
   ]
  },
  {
   "cell_type": "code",
   "execution_count": 21,
   "metadata": {
    "ExecuteTime": {
     "start_time": "2023-05-04T06:42:12.734381Z",
     "end_time": "2023-05-04T06:42:12.926243Z"
    }
   },
   "outputs": [
    {
     "ename": "OperationalError",
     "evalue": "(2006, 'Server has gone away')",
     "output_type": "error",
     "traceback": [
      "\u001B[1;31m---------------------------------------------------------------------------\u001B[0m",
      "\u001B[1;31mOperationalError\u001B[0m                          Traceback (most recent call last)",
      "File \u001B[1;32mD:\\Coding\\FYP\\VehicleGenie_V1\\venv\\Lib\\site-packages\\django\\db\\backends\\utils.py:89\u001B[0m, in \u001B[0;36mCursorWrapper._execute\u001B[1;34m(self, sql, params, *ignored_wrapper_args)\u001B[0m\n\u001B[0;32m     88\u001B[0m \u001B[38;5;28;01melse\u001B[39;00m:\n\u001B[1;32m---> 89\u001B[0m     \u001B[38;5;28;01mreturn\u001B[39;00m \u001B[38;5;28;43mself\u001B[39;49m\u001B[38;5;241;43m.\u001B[39;49m\u001B[43mcursor\u001B[49m\u001B[38;5;241;43m.\u001B[39;49m\u001B[43mexecute\u001B[49m\u001B[43m(\u001B[49m\u001B[43msql\u001B[49m\u001B[43m,\u001B[49m\u001B[43m \u001B[49m\u001B[43mparams\u001B[49m\u001B[43m)\u001B[49m\n",
      "File \u001B[1;32mD:\\Coding\\FYP\\VehicleGenie_V1\\venv\\Lib\\site-packages\\django\\db\\backends\\mysql\\base.py:75\u001B[0m, in \u001B[0;36mCursorWrapper.execute\u001B[1;34m(self, query, args)\u001B[0m\n\u001B[0;32m     73\u001B[0m \u001B[38;5;28;01mtry\u001B[39;00m:\n\u001B[0;32m     74\u001B[0m     \u001B[38;5;66;03m# args is None means no string interpolation\u001B[39;00m\n\u001B[1;32m---> 75\u001B[0m     \u001B[38;5;28;01mreturn\u001B[39;00m \u001B[38;5;28;43mself\u001B[39;49m\u001B[38;5;241;43m.\u001B[39;49m\u001B[43mcursor\u001B[49m\u001B[38;5;241;43m.\u001B[39;49m\u001B[43mexecute\u001B[49m\u001B[43m(\u001B[49m\u001B[43mquery\u001B[49m\u001B[43m,\u001B[49m\u001B[43m \u001B[49m\u001B[43margs\u001B[49m\u001B[43m)\u001B[49m\n\u001B[0;32m     76\u001B[0m \u001B[38;5;28;01mexcept\u001B[39;00m Database\u001B[38;5;241m.\u001B[39mOperationalError \u001B[38;5;28;01mas\u001B[39;00m e:\n\u001B[0;32m     77\u001B[0m     \u001B[38;5;66;03m# Map some error codes to IntegrityError, since they seem to be\u001B[39;00m\n\u001B[0;32m     78\u001B[0m     \u001B[38;5;66;03m# misclassified and Django would prefer the more logical place.\u001B[39;00m\n",
      "File \u001B[1;32mD:\\Coding\\FYP\\VehicleGenie_V1\\venv\\Lib\\site-packages\\MySQLdb\\cursors.py:206\u001B[0m, in \u001B[0;36mBaseCursor.execute\u001B[1;34m(self, query, args)\u001B[0m\n\u001B[0;32m    205\u001B[0m \u001B[38;5;28;01massert\u001B[39;00m \u001B[38;5;28misinstance\u001B[39m(query, (\u001B[38;5;28mbytes\u001B[39m, \u001B[38;5;28mbytearray\u001B[39m))\n\u001B[1;32m--> 206\u001B[0m res \u001B[38;5;241m=\u001B[39m \u001B[38;5;28;43mself\u001B[39;49m\u001B[38;5;241;43m.\u001B[39;49m\u001B[43m_query\u001B[49m\u001B[43m(\u001B[49m\u001B[43mquery\u001B[49m\u001B[43m)\u001B[49m\n\u001B[0;32m    207\u001B[0m \u001B[38;5;28;01mreturn\u001B[39;00m res\n",
      "File \u001B[1;32mD:\\Coding\\FYP\\VehicleGenie_V1\\venv\\Lib\\site-packages\\MySQLdb\\cursors.py:319\u001B[0m, in \u001B[0;36mBaseCursor._query\u001B[1;34m(self, q)\u001B[0m\n\u001B[0;32m    318\u001B[0m \u001B[38;5;28mself\u001B[39m\u001B[38;5;241m.\u001B[39m_result \u001B[38;5;241m=\u001B[39m \u001B[38;5;28;01mNone\u001B[39;00m\n\u001B[1;32m--> 319\u001B[0m \u001B[43mdb\u001B[49m\u001B[38;5;241;43m.\u001B[39;49m\u001B[43mquery\u001B[49m\u001B[43m(\u001B[49m\u001B[43mq\u001B[49m\u001B[43m)\u001B[49m\n\u001B[0;32m    320\u001B[0m \u001B[38;5;28mself\u001B[39m\u001B[38;5;241m.\u001B[39m_do_get_result(db)\n",
      "File \u001B[1;32mD:\\Coding\\FYP\\VehicleGenie_V1\\venv\\Lib\\site-packages\\MySQLdb\\connections.py:254\u001B[0m, in \u001B[0;36mConnection.query\u001B[1;34m(self, query)\u001B[0m\n\u001B[0;32m    253\u001B[0m     query \u001B[38;5;241m=\u001B[39m \u001B[38;5;28mbytes\u001B[39m(query)\n\u001B[1;32m--> 254\u001B[0m \u001B[43m_mysql\u001B[49m\u001B[38;5;241;43m.\u001B[39;49m\u001B[43mconnection\u001B[49m\u001B[38;5;241;43m.\u001B[39;49m\u001B[43mquery\u001B[49m\u001B[43m(\u001B[49m\u001B[38;5;28;43mself\u001B[39;49m\u001B[43m,\u001B[49m\u001B[43m \u001B[49m\u001B[43mquery\u001B[49m\u001B[43m)\u001B[49m\n",
      "\u001B[1;31mOperationalError\u001B[0m: (2006, 'Server has gone away')",
      "\nThe above exception was the direct cause of the following exception:\n",
      "\u001B[1;31mOperationalError\u001B[0m                          Traceback (most recent call last)",
      "Cell \u001B[1;32mIn[21], line 2\u001B[0m\n\u001B[0;32m      1\u001B[0m \u001B[38;5;66;03m# Read the query set to df\u001B[39;00m\n\u001B[1;32m----> 2\u001B[0m uvDf \u001B[38;5;241m=\u001B[39m \u001B[43mread_frame\u001B[49m\u001B[43m(\u001B[49m\u001B[43muserVehicle\u001B[49m\u001B[43m)\u001B[49m\n\u001B[0;32m      3\u001B[0m vDf \u001B[38;5;241m=\u001B[39m read_frame(vehicleQS)\n\u001B[0;32m      4\u001B[0m vDf \u001B[38;5;241m=\u001B[39m vDf\u001B[38;5;241m.\u001B[39mrename(columns\u001B[38;5;241m=\u001B[39m{\u001B[38;5;124m'\u001B[39m\u001B[38;5;124mvehicle_Id\u001B[39m\u001B[38;5;124m'\u001B[39m: \u001B[38;5;124m'\u001B[39m\u001B[38;5;124mVehicle_Id\u001B[39m\u001B[38;5;124m'\u001B[39m})\n",
      "File \u001B[1;32mD:\\Coding\\FYP\\VehicleGenie_V1\\venv\\Lib\\site-packages\\django_pandas\\io.py:127\u001B[0m, in \u001B[0;36mread_frame\u001B[1;34m(qs, fieldnames, index_col, coerce_float, verbose, datetime_index, column_names)\u001B[0m\n\u001B[0;32m    125\u001B[0m     recs \u001B[38;5;241m=\u001B[39m \u001B[38;5;28mlist\u001B[39m(qs)\n\u001B[0;32m    126\u001B[0m \u001B[38;5;28;01melse\u001B[39;00m:\n\u001B[1;32m--> 127\u001B[0m     recs \u001B[38;5;241m=\u001B[39m \u001B[38;5;28;43mlist\u001B[39;49m\u001B[43m(\u001B[49m\u001B[43mqs\u001B[49m\u001B[38;5;241;43m.\u001B[39;49m\u001B[43mvalues_list\u001B[49m\u001B[43m(\u001B[49m\u001B[38;5;241;43m*\u001B[39;49m\u001B[43mfieldnames\u001B[49m\u001B[43m)\u001B[49m\u001B[43m)\u001B[49m\n\u001B[0;32m    129\u001B[0m df \u001B[38;5;241m=\u001B[39m pd\u001B[38;5;241m.\u001B[39mDataFrame\u001B[38;5;241m.\u001B[39mfrom_records(\n\u001B[0;32m    130\u001B[0m     recs,\n\u001B[0;32m    131\u001B[0m     columns\u001B[38;5;241m=\u001B[39mcolumn_names \u001B[38;5;28;01mif\u001B[39;00m column_names \u001B[38;5;28;01melse\u001B[39;00m fieldnames,\n\u001B[0;32m    132\u001B[0m     coerce_float\u001B[38;5;241m=\u001B[39mcoerce_float\n\u001B[0;32m    133\u001B[0m )\n\u001B[0;32m    135\u001B[0m \u001B[38;5;28;01mif\u001B[39;00m verbose:\n",
      "File \u001B[1;32mD:\\Coding\\FYP\\VehicleGenie_V1\\venv\\Lib\\site-packages\\django\\db\\models\\query.py:398\u001B[0m, in \u001B[0;36mQuerySet.__iter__\u001B[1;34m(self)\u001B[0m\n\u001B[0;32m    383\u001B[0m \u001B[38;5;28;01mdef\u001B[39;00m \u001B[38;5;21m__iter__\u001B[39m(\u001B[38;5;28mself\u001B[39m):\n\u001B[0;32m    384\u001B[0m \u001B[38;5;250m    \u001B[39m\u001B[38;5;124;03m\"\"\"\u001B[39;00m\n\u001B[0;32m    385\u001B[0m \u001B[38;5;124;03m    The queryset iterator protocol uses three nested iterators in the\u001B[39;00m\n\u001B[0;32m    386\u001B[0m \u001B[38;5;124;03m    default case:\u001B[39;00m\n\u001B[1;32m   (...)\u001B[0m\n\u001B[0;32m    396\u001B[0m \u001B[38;5;124;03m           - Responsible for turning the rows into model objects.\u001B[39;00m\n\u001B[0;32m    397\u001B[0m \u001B[38;5;124;03m    \"\"\"\u001B[39;00m\n\u001B[1;32m--> 398\u001B[0m     \u001B[38;5;28;43mself\u001B[39;49m\u001B[38;5;241;43m.\u001B[39;49m\u001B[43m_fetch_all\u001B[49m\u001B[43m(\u001B[49m\u001B[43m)\u001B[49m\n\u001B[0;32m    399\u001B[0m     \u001B[38;5;28;01mreturn\u001B[39;00m \u001B[38;5;28miter\u001B[39m(\u001B[38;5;28mself\u001B[39m\u001B[38;5;241m.\u001B[39m_result_cache)\n",
      "File \u001B[1;32mD:\\Coding\\FYP\\VehicleGenie_V1\\venv\\Lib\\site-packages\\django\\db\\models\\query.py:1881\u001B[0m, in \u001B[0;36mQuerySet._fetch_all\u001B[1;34m(self)\u001B[0m\n\u001B[0;32m   1879\u001B[0m \u001B[38;5;28;01mdef\u001B[39;00m \u001B[38;5;21m_fetch_all\u001B[39m(\u001B[38;5;28mself\u001B[39m):\n\u001B[0;32m   1880\u001B[0m     \u001B[38;5;28;01mif\u001B[39;00m \u001B[38;5;28mself\u001B[39m\u001B[38;5;241m.\u001B[39m_result_cache \u001B[38;5;129;01mis\u001B[39;00m \u001B[38;5;28;01mNone\u001B[39;00m:\n\u001B[1;32m-> 1881\u001B[0m         \u001B[38;5;28mself\u001B[39m\u001B[38;5;241m.\u001B[39m_result_cache \u001B[38;5;241m=\u001B[39m \u001B[38;5;28mlist\u001B[39m(\u001B[38;5;28mself\u001B[39m\u001B[38;5;241m.\u001B[39m_iterable_class(\u001B[38;5;28mself\u001B[39m))\n\u001B[0;32m   1882\u001B[0m     \u001B[38;5;28;01mif\u001B[39;00m \u001B[38;5;28mself\u001B[39m\u001B[38;5;241m.\u001B[39m_prefetch_related_lookups \u001B[38;5;129;01mand\u001B[39;00m \u001B[38;5;129;01mnot\u001B[39;00m \u001B[38;5;28mself\u001B[39m\u001B[38;5;241m.\u001B[39m_prefetch_done:\n\u001B[0;32m   1883\u001B[0m         \u001B[38;5;28mself\u001B[39m\u001B[38;5;241m.\u001B[39m_prefetch_related_objects()\n",
      "File \u001B[1;32mD:\\Coding\\FYP\\VehicleGenie_V1\\venv\\Lib\\site-packages\\django\\db\\models\\query.py:246\u001B[0m, in \u001B[0;36mValuesListIterable.__iter__\u001B[1;34m(self)\u001B[0m\n\u001B[0;32m    239\u001B[0m         rowfactory \u001B[38;5;241m=\u001B[39m operator\u001B[38;5;241m.\u001B[39mitemgetter(\u001B[38;5;241m*\u001B[39m[index_map[f] \u001B[38;5;28;01mfor\u001B[39;00m f \u001B[38;5;129;01min\u001B[39;00m fields])\n\u001B[0;32m    240\u001B[0m         \u001B[38;5;28;01mreturn\u001B[39;00m \u001B[38;5;28mmap\u001B[39m(\n\u001B[0;32m    241\u001B[0m             rowfactory,\n\u001B[0;32m    242\u001B[0m             compiler\u001B[38;5;241m.\u001B[39mresults_iter(\n\u001B[0;32m    243\u001B[0m                 chunked_fetch\u001B[38;5;241m=\u001B[39m\u001B[38;5;28mself\u001B[39m\u001B[38;5;241m.\u001B[39mchunked_fetch, chunk_size\u001B[38;5;241m=\u001B[39m\u001B[38;5;28mself\u001B[39m\u001B[38;5;241m.\u001B[39mchunk_size\n\u001B[0;32m    244\u001B[0m             ),\n\u001B[0;32m    245\u001B[0m         )\n\u001B[1;32m--> 246\u001B[0m \u001B[38;5;28;01mreturn\u001B[39;00m \u001B[43mcompiler\u001B[49m\u001B[38;5;241;43m.\u001B[39;49m\u001B[43mresults_iter\u001B[49m\u001B[43m(\u001B[49m\n\u001B[0;32m    247\u001B[0m \u001B[43m    \u001B[49m\u001B[43mtuple_expected\u001B[49m\u001B[38;5;241;43m=\u001B[39;49m\u001B[38;5;28;43;01mTrue\u001B[39;49;00m\u001B[43m,\u001B[49m\n\u001B[0;32m    248\u001B[0m \u001B[43m    \u001B[49m\u001B[43mchunked_fetch\u001B[49m\u001B[38;5;241;43m=\u001B[39;49m\u001B[38;5;28;43mself\u001B[39;49m\u001B[38;5;241;43m.\u001B[39;49m\u001B[43mchunked_fetch\u001B[49m\u001B[43m,\u001B[49m\n\u001B[0;32m    249\u001B[0m \u001B[43m    \u001B[49m\u001B[43mchunk_size\u001B[49m\u001B[38;5;241;43m=\u001B[39;49m\u001B[38;5;28;43mself\u001B[39;49m\u001B[38;5;241;43m.\u001B[39;49m\u001B[43mchunk_size\u001B[49m\u001B[43m,\u001B[49m\n\u001B[0;32m    250\u001B[0m \u001B[43m\u001B[49m\u001B[43m)\u001B[49m\n",
      "File \u001B[1;32mD:\\Coding\\FYP\\VehicleGenie_V1\\venv\\Lib\\site-packages\\django\\db\\models\\sql\\compiler.py:1511\u001B[0m, in \u001B[0;36mSQLCompiler.results_iter\u001B[1;34m(self, results, tuple_expected, chunked_fetch, chunk_size)\u001B[0m\n\u001B[0;32m   1509\u001B[0m \u001B[38;5;250m\u001B[39m\u001B[38;5;124;03m\"\"\"Return an iterator over the results from executing this query.\"\"\"\u001B[39;00m\n\u001B[0;32m   1510\u001B[0m \u001B[38;5;28;01mif\u001B[39;00m results \u001B[38;5;129;01mis\u001B[39;00m \u001B[38;5;28;01mNone\u001B[39;00m:\n\u001B[1;32m-> 1511\u001B[0m     results \u001B[38;5;241m=\u001B[39m \u001B[38;5;28;43mself\u001B[39;49m\u001B[38;5;241;43m.\u001B[39;49m\u001B[43mexecute_sql\u001B[49m\u001B[43m(\u001B[49m\n\u001B[0;32m   1512\u001B[0m \u001B[43m        \u001B[49m\u001B[43mMULTI\u001B[49m\u001B[43m,\u001B[49m\u001B[43m \u001B[49m\u001B[43mchunked_fetch\u001B[49m\u001B[38;5;241;43m=\u001B[39;49m\u001B[43mchunked_fetch\u001B[49m\u001B[43m,\u001B[49m\u001B[43m \u001B[49m\u001B[43mchunk_size\u001B[49m\u001B[38;5;241;43m=\u001B[39;49m\u001B[43mchunk_size\u001B[49m\n\u001B[0;32m   1513\u001B[0m \u001B[43m    \u001B[49m\u001B[43m)\u001B[49m\n\u001B[0;32m   1514\u001B[0m fields \u001B[38;5;241m=\u001B[39m [s[\u001B[38;5;241m0\u001B[39m] \u001B[38;5;28;01mfor\u001B[39;00m s \u001B[38;5;129;01min\u001B[39;00m \u001B[38;5;28mself\u001B[39m\u001B[38;5;241m.\u001B[39mselect[\u001B[38;5;241m0\u001B[39m : \u001B[38;5;28mself\u001B[39m\u001B[38;5;241m.\u001B[39mcol_count]]\n\u001B[0;32m   1515\u001B[0m converters \u001B[38;5;241m=\u001B[39m \u001B[38;5;28mself\u001B[39m\u001B[38;5;241m.\u001B[39mget_converters(fields)\n",
      "File \u001B[1;32mD:\\Coding\\FYP\\VehicleGenie_V1\\venv\\Lib\\site-packages\\django\\db\\models\\sql\\compiler.py:1560\u001B[0m, in \u001B[0;36mSQLCompiler.execute_sql\u001B[1;34m(self, result_type, chunked_fetch, chunk_size)\u001B[0m\n\u001B[0;32m   1558\u001B[0m     cursor \u001B[38;5;241m=\u001B[39m \u001B[38;5;28mself\u001B[39m\u001B[38;5;241m.\u001B[39mconnection\u001B[38;5;241m.\u001B[39mcursor()\n\u001B[0;32m   1559\u001B[0m \u001B[38;5;28;01mtry\u001B[39;00m:\n\u001B[1;32m-> 1560\u001B[0m     \u001B[43mcursor\u001B[49m\u001B[38;5;241;43m.\u001B[39;49m\u001B[43mexecute\u001B[49m\u001B[43m(\u001B[49m\u001B[43msql\u001B[49m\u001B[43m,\u001B[49m\u001B[43m \u001B[49m\u001B[43mparams\u001B[49m\u001B[43m)\u001B[49m\n\u001B[0;32m   1561\u001B[0m \u001B[38;5;28;01mexcept\u001B[39;00m \u001B[38;5;167;01mException\u001B[39;00m:\n\u001B[0;32m   1562\u001B[0m     \u001B[38;5;66;03m# Might fail for server-side cursors (e.g. connection closed)\u001B[39;00m\n\u001B[0;32m   1563\u001B[0m     cursor\u001B[38;5;241m.\u001B[39mclose()\n",
      "File \u001B[1;32mD:\\Coding\\FYP\\VehicleGenie_V1\\venv\\Lib\\site-packages\\django\\db\\backends\\utils.py:102\u001B[0m, in \u001B[0;36mCursorDebugWrapper.execute\u001B[1;34m(self, sql, params)\u001B[0m\n\u001B[0;32m    100\u001B[0m \u001B[38;5;28;01mdef\u001B[39;00m \u001B[38;5;21mexecute\u001B[39m(\u001B[38;5;28mself\u001B[39m, sql, params\u001B[38;5;241m=\u001B[39m\u001B[38;5;28;01mNone\u001B[39;00m):\n\u001B[0;32m    101\u001B[0m     \u001B[38;5;28;01mwith\u001B[39;00m \u001B[38;5;28mself\u001B[39m\u001B[38;5;241m.\u001B[39mdebug_sql(sql, params, use_last_executed_query\u001B[38;5;241m=\u001B[39m\u001B[38;5;28;01mTrue\u001B[39;00m):\n\u001B[1;32m--> 102\u001B[0m         \u001B[38;5;28;01mreturn\u001B[39;00m \u001B[38;5;28;43msuper\u001B[39;49m\u001B[43m(\u001B[49m\u001B[43m)\u001B[49m\u001B[38;5;241;43m.\u001B[39;49m\u001B[43mexecute\u001B[49m\u001B[43m(\u001B[49m\u001B[43msql\u001B[49m\u001B[43m,\u001B[49m\u001B[43m \u001B[49m\u001B[43mparams\u001B[49m\u001B[43m)\u001B[49m\n",
      "File \u001B[1;32mD:\\Coding\\FYP\\VehicleGenie_V1\\venv\\Lib\\site-packages\\django\\db\\backends\\utils.py:67\u001B[0m, in \u001B[0;36mCursorWrapper.execute\u001B[1;34m(self, sql, params)\u001B[0m\n\u001B[0;32m     66\u001B[0m \u001B[38;5;28;01mdef\u001B[39;00m \u001B[38;5;21mexecute\u001B[39m(\u001B[38;5;28mself\u001B[39m, sql, params\u001B[38;5;241m=\u001B[39m\u001B[38;5;28;01mNone\u001B[39;00m):\n\u001B[1;32m---> 67\u001B[0m     \u001B[38;5;28;01mreturn\u001B[39;00m \u001B[38;5;28;43mself\u001B[39;49m\u001B[38;5;241;43m.\u001B[39;49m\u001B[43m_execute_with_wrappers\u001B[49m\u001B[43m(\u001B[49m\n\u001B[0;32m     68\u001B[0m \u001B[43m        \u001B[49m\u001B[43msql\u001B[49m\u001B[43m,\u001B[49m\u001B[43m \u001B[49m\u001B[43mparams\u001B[49m\u001B[43m,\u001B[49m\u001B[43m \u001B[49m\u001B[43mmany\u001B[49m\u001B[38;5;241;43m=\u001B[39;49m\u001B[38;5;28;43;01mFalse\u001B[39;49;00m\u001B[43m,\u001B[49m\u001B[43m \u001B[49m\u001B[43mexecutor\u001B[49m\u001B[38;5;241;43m=\u001B[39;49m\u001B[38;5;28;43mself\u001B[39;49m\u001B[38;5;241;43m.\u001B[39;49m\u001B[43m_execute\u001B[49m\n\u001B[0;32m     69\u001B[0m \u001B[43m    \u001B[49m\u001B[43m)\u001B[49m\n",
      "File \u001B[1;32mD:\\Coding\\FYP\\VehicleGenie_V1\\venv\\Lib\\site-packages\\django\\db\\backends\\utils.py:80\u001B[0m, in \u001B[0;36mCursorWrapper._execute_with_wrappers\u001B[1;34m(self, sql, params, many, executor)\u001B[0m\n\u001B[0;32m     78\u001B[0m \u001B[38;5;28;01mfor\u001B[39;00m wrapper \u001B[38;5;129;01min\u001B[39;00m \u001B[38;5;28mreversed\u001B[39m(\u001B[38;5;28mself\u001B[39m\u001B[38;5;241m.\u001B[39mdb\u001B[38;5;241m.\u001B[39mexecute_wrappers):\n\u001B[0;32m     79\u001B[0m     executor \u001B[38;5;241m=\u001B[39m functools\u001B[38;5;241m.\u001B[39mpartial(wrapper, executor)\n\u001B[1;32m---> 80\u001B[0m \u001B[38;5;28;01mreturn\u001B[39;00m \u001B[43mexecutor\u001B[49m\u001B[43m(\u001B[49m\u001B[43msql\u001B[49m\u001B[43m,\u001B[49m\u001B[43m \u001B[49m\u001B[43mparams\u001B[49m\u001B[43m,\u001B[49m\u001B[43m \u001B[49m\u001B[43mmany\u001B[49m\u001B[43m,\u001B[49m\u001B[43m \u001B[49m\u001B[43mcontext\u001B[49m\u001B[43m)\u001B[49m\n",
      "File \u001B[1;32mD:\\Coding\\FYP\\VehicleGenie_V1\\venv\\Lib\\site-packages\\django\\db\\backends\\utils.py:84\u001B[0m, in \u001B[0;36mCursorWrapper._execute\u001B[1;34m(self, sql, params, *ignored_wrapper_args)\u001B[0m\n\u001B[0;32m     82\u001B[0m \u001B[38;5;28;01mdef\u001B[39;00m \u001B[38;5;21m_execute\u001B[39m(\u001B[38;5;28mself\u001B[39m, sql, params, \u001B[38;5;241m*\u001B[39mignored_wrapper_args):\n\u001B[0;32m     83\u001B[0m     \u001B[38;5;28mself\u001B[39m\u001B[38;5;241m.\u001B[39mdb\u001B[38;5;241m.\u001B[39mvalidate_no_broken_transaction()\n\u001B[1;32m---> 84\u001B[0m \u001B[43m    \u001B[49m\u001B[38;5;28;43;01mwith\u001B[39;49;00m\u001B[43m \u001B[49m\u001B[38;5;28;43mself\u001B[39;49m\u001B[38;5;241;43m.\u001B[39;49m\u001B[43mdb\u001B[49m\u001B[38;5;241;43m.\u001B[39;49m\u001B[43mwrap_database_errors\u001B[49m\u001B[43m:\u001B[49m\n\u001B[0;32m     85\u001B[0m \u001B[43m        \u001B[49m\u001B[38;5;28;43;01mif\u001B[39;49;00m\u001B[43m \u001B[49m\u001B[43mparams\u001B[49m\u001B[43m \u001B[49m\u001B[38;5;129;43;01mis\u001B[39;49;00m\u001B[43m \u001B[49m\u001B[38;5;28;43;01mNone\u001B[39;49;00m\u001B[43m:\u001B[49m\n\u001B[0;32m     86\u001B[0m \u001B[43m            \u001B[49m\u001B[38;5;66;43;03m# params default might be backend specific.\u001B[39;49;00m\n\u001B[0;32m     87\u001B[0m \u001B[43m            \u001B[49m\u001B[38;5;28;43;01mreturn\u001B[39;49;00m\u001B[43m \u001B[49m\u001B[38;5;28;43mself\u001B[39;49m\u001B[38;5;241;43m.\u001B[39;49m\u001B[43mcursor\u001B[49m\u001B[38;5;241;43m.\u001B[39;49m\u001B[43mexecute\u001B[49m\u001B[43m(\u001B[49m\u001B[43msql\u001B[49m\u001B[43m)\u001B[49m\n",
      "File \u001B[1;32mD:\\Coding\\FYP\\VehicleGenie_V1\\venv\\Lib\\site-packages\\django\\db\\utils.py:91\u001B[0m, in \u001B[0;36mDatabaseErrorWrapper.__exit__\u001B[1;34m(self, exc_type, exc_value, traceback)\u001B[0m\n\u001B[0;32m     89\u001B[0m \u001B[38;5;28;01mif\u001B[39;00m dj_exc_type \u001B[38;5;129;01mnot\u001B[39;00m \u001B[38;5;129;01min\u001B[39;00m (DataError, IntegrityError):\n\u001B[0;32m     90\u001B[0m     \u001B[38;5;28mself\u001B[39m\u001B[38;5;241m.\u001B[39mwrapper\u001B[38;5;241m.\u001B[39merrors_occurred \u001B[38;5;241m=\u001B[39m \u001B[38;5;28;01mTrue\u001B[39;00m\n\u001B[1;32m---> 91\u001B[0m \u001B[38;5;28;01mraise\u001B[39;00m dj_exc_value\u001B[38;5;241m.\u001B[39mwith_traceback(traceback) \u001B[38;5;28;01mfrom\u001B[39;00m \u001B[38;5;21;01mexc_value\u001B[39;00m\n",
      "File \u001B[1;32mD:\\Coding\\FYP\\VehicleGenie_V1\\venv\\Lib\\site-packages\\django\\db\\backends\\utils.py:89\u001B[0m, in \u001B[0;36mCursorWrapper._execute\u001B[1;34m(self, sql, params, *ignored_wrapper_args)\u001B[0m\n\u001B[0;32m     87\u001B[0m     \u001B[38;5;28;01mreturn\u001B[39;00m \u001B[38;5;28mself\u001B[39m\u001B[38;5;241m.\u001B[39mcursor\u001B[38;5;241m.\u001B[39mexecute(sql)\n\u001B[0;32m     88\u001B[0m \u001B[38;5;28;01melse\u001B[39;00m:\n\u001B[1;32m---> 89\u001B[0m     \u001B[38;5;28;01mreturn\u001B[39;00m \u001B[38;5;28;43mself\u001B[39;49m\u001B[38;5;241;43m.\u001B[39;49m\u001B[43mcursor\u001B[49m\u001B[38;5;241;43m.\u001B[39;49m\u001B[43mexecute\u001B[49m\u001B[43m(\u001B[49m\u001B[43msql\u001B[49m\u001B[43m,\u001B[49m\u001B[43m \u001B[49m\u001B[43mparams\u001B[49m\u001B[43m)\u001B[49m\n",
      "File \u001B[1;32mD:\\Coding\\FYP\\VehicleGenie_V1\\venv\\Lib\\site-packages\\django\\db\\backends\\mysql\\base.py:75\u001B[0m, in \u001B[0;36mCursorWrapper.execute\u001B[1;34m(self, query, args)\u001B[0m\n\u001B[0;32m     72\u001B[0m \u001B[38;5;28;01mdef\u001B[39;00m \u001B[38;5;21mexecute\u001B[39m(\u001B[38;5;28mself\u001B[39m, query, args\u001B[38;5;241m=\u001B[39m\u001B[38;5;28;01mNone\u001B[39;00m):\n\u001B[0;32m     73\u001B[0m     \u001B[38;5;28;01mtry\u001B[39;00m:\n\u001B[0;32m     74\u001B[0m         \u001B[38;5;66;03m# args is None means no string interpolation\u001B[39;00m\n\u001B[1;32m---> 75\u001B[0m         \u001B[38;5;28;01mreturn\u001B[39;00m \u001B[38;5;28;43mself\u001B[39;49m\u001B[38;5;241;43m.\u001B[39;49m\u001B[43mcursor\u001B[49m\u001B[38;5;241;43m.\u001B[39;49m\u001B[43mexecute\u001B[49m\u001B[43m(\u001B[49m\u001B[43mquery\u001B[49m\u001B[43m,\u001B[49m\u001B[43m \u001B[49m\u001B[43margs\u001B[49m\u001B[43m)\u001B[49m\n\u001B[0;32m     76\u001B[0m     \u001B[38;5;28;01mexcept\u001B[39;00m Database\u001B[38;5;241m.\u001B[39mOperationalError \u001B[38;5;28;01mas\u001B[39;00m e:\n\u001B[0;32m     77\u001B[0m         \u001B[38;5;66;03m# Map some error codes to IntegrityError, since they seem to be\u001B[39;00m\n\u001B[0;32m     78\u001B[0m         \u001B[38;5;66;03m# misclassified and Django would prefer the more logical place.\u001B[39;00m\n\u001B[0;32m     79\u001B[0m         \u001B[38;5;28;01mif\u001B[39;00m e\u001B[38;5;241m.\u001B[39margs[\u001B[38;5;241m0\u001B[39m] \u001B[38;5;129;01min\u001B[39;00m \u001B[38;5;28mself\u001B[39m\u001B[38;5;241m.\u001B[39mcodes_for_integrityerror:\n",
      "File \u001B[1;32mD:\\Coding\\FYP\\VehicleGenie_V1\\venv\\Lib\\site-packages\\MySQLdb\\cursors.py:206\u001B[0m, in \u001B[0;36mBaseCursor.execute\u001B[1;34m(self, query, args)\u001B[0m\n\u001B[0;32m    203\u001B[0m         \u001B[38;5;28;01mraise\u001B[39;00m ProgrammingError(\u001B[38;5;28mstr\u001B[39m(m))\n\u001B[0;32m    205\u001B[0m \u001B[38;5;28;01massert\u001B[39;00m \u001B[38;5;28misinstance\u001B[39m(query, (\u001B[38;5;28mbytes\u001B[39m, \u001B[38;5;28mbytearray\u001B[39m))\n\u001B[1;32m--> 206\u001B[0m res \u001B[38;5;241m=\u001B[39m \u001B[38;5;28;43mself\u001B[39;49m\u001B[38;5;241;43m.\u001B[39;49m\u001B[43m_query\u001B[49m\u001B[43m(\u001B[49m\u001B[43mquery\u001B[49m\u001B[43m)\u001B[49m\n\u001B[0;32m    207\u001B[0m \u001B[38;5;28;01mreturn\u001B[39;00m res\n",
      "File \u001B[1;32mD:\\Coding\\FYP\\VehicleGenie_V1\\venv\\Lib\\site-packages\\MySQLdb\\cursors.py:319\u001B[0m, in \u001B[0;36mBaseCursor._query\u001B[1;34m(self, q)\u001B[0m\n\u001B[0;32m    317\u001B[0m db \u001B[38;5;241m=\u001B[39m \u001B[38;5;28mself\u001B[39m\u001B[38;5;241m.\u001B[39m_get_db()\n\u001B[0;32m    318\u001B[0m \u001B[38;5;28mself\u001B[39m\u001B[38;5;241m.\u001B[39m_result \u001B[38;5;241m=\u001B[39m \u001B[38;5;28;01mNone\u001B[39;00m\n\u001B[1;32m--> 319\u001B[0m \u001B[43mdb\u001B[49m\u001B[38;5;241;43m.\u001B[39;49m\u001B[43mquery\u001B[49m\u001B[43m(\u001B[49m\u001B[43mq\u001B[49m\u001B[43m)\u001B[49m\n\u001B[0;32m    320\u001B[0m \u001B[38;5;28mself\u001B[39m\u001B[38;5;241m.\u001B[39m_do_get_result(db)\n\u001B[0;32m    321\u001B[0m \u001B[38;5;28mself\u001B[39m\u001B[38;5;241m.\u001B[39m_post_get_result()\n",
      "File \u001B[1;32mD:\\Coding\\FYP\\VehicleGenie_V1\\venv\\Lib\\site-packages\\MySQLdb\\connections.py:254\u001B[0m, in \u001B[0;36mConnection.query\u001B[1;34m(self, query)\u001B[0m\n\u001B[0;32m    252\u001B[0m \u001B[38;5;28;01mif\u001B[39;00m \u001B[38;5;28misinstance\u001B[39m(query, \u001B[38;5;28mbytearray\u001B[39m):\n\u001B[0;32m    253\u001B[0m     query \u001B[38;5;241m=\u001B[39m \u001B[38;5;28mbytes\u001B[39m(query)\n\u001B[1;32m--> 254\u001B[0m \u001B[43m_mysql\u001B[49m\u001B[38;5;241;43m.\u001B[39;49m\u001B[43mconnection\u001B[49m\u001B[38;5;241;43m.\u001B[39;49m\u001B[43mquery\u001B[49m\u001B[43m(\u001B[49m\u001B[38;5;28;43mself\u001B[39;49m\u001B[43m,\u001B[49m\u001B[43m \u001B[49m\u001B[43mquery\u001B[49m\u001B[43m)\u001B[49m\n",
      "\u001B[1;31mOperationalError\u001B[0m: (2006, 'Server has gone away')"
     ]
    }
   ],
   "source": [
    "# Read the query set to df\n",
    "uvDf = read_frame(userVehicle)\n",
    "vDf = read_frame(vehicleQS)\n",
    "vDf = vDf.rename(columns={'vehicle_Id': 'Vehicle_Id'})"
   ]
  },
  {
   "cell_type": "code",
   "execution_count": null,
   "outputs": [],
   "source": [
    "# Join the dataframes on Vehicle_Id column\n",
    "joined_df = panda.merge(uvDf, vDf, how='inner', on='Vehicle_Id')\n",
    "\n",
    "# Select all columns from both dataframes\n",
    "selected_df = joined_df.loc[:, ~joined_df.columns.duplicated()]\n",
    "\n",
    "# Print the selected dataframe\n",
    "selected_df.head()"
   ],
   "metadata": {
    "collapsed": false,
    "ExecuteTime": {
     "start_time": "2023-05-04T06:42:12.926243Z",
     "end_time": "2023-05-04T06:42:12.989108Z"
    }
   }
  },
  {
   "cell_type": "code",
   "execution_count": null,
   "outputs": [],
   "source": [
    "uvUpdatedDF = selected_df.loc[:,['Client_Id', 'Vehicle_Id', 'brand', 'model', 'transmission', 'body', 'year', 'fuel', 'location']]\n",
    "uvUpdatedDF.head()"
   ],
   "metadata": {
    "collapsed": false,
    "ExecuteTime": {
     "start_time": "2023-05-04T06:42:12.964686Z",
     "end_time": "2023-05-04T06:42:12.989108Z"
    }
   }
  },
  {
   "cell_type": "markdown",
   "metadata": {},
   "source": [
    "### Creating Pivot table to make a User Vehicle Matrix"
   ]
  },
  {
   "cell_type": "code",
   "execution_count": null,
   "outputs": [],
   "source": [
    "pivot_table = panda.pivot_table(selected_df, values='Vehicle_Id', index=['Client_Id'], columns=['brand', 'model', 'transmission', 'body', 'year', 'fuel', 'location'], aggfunc='count', fill_value=0)\n",
    "pivot_table"
   ],
   "metadata": {
    "collapsed": false,
    "ExecuteTime": {
     "start_time": "2023-05-04T06:42:12.986078Z",
     "end_time": "2023-05-04T06:42:13.224524Z"
    }
   }
  },
  {
   "cell_type": "markdown",
   "source": [
    "### Get Recommendations"
   ],
   "metadata": {
    "collapsed": false
   }
  },
  {
   "cell_type": "code",
   "execution_count": null,
   "outputs": [],
   "source": [
    "clientId = 2"
   ],
   "metadata": {
    "collapsed": false,
    "ExecuteTime": {
     "start_time": "2023-05-04T06:42:13.077058Z",
     "end_time": "2023-05-04T06:42:13.224524Z"
    }
   }
  },
  {
   "cell_type": "code",
   "execution_count": null,
   "outputs": [],
   "source": [
    "usersBrowsingData = pivot_table.loc[clientId]\n",
    "usersBrowsingData"
   ],
   "metadata": {
    "collapsed": false,
    "ExecuteTime": {
     "start_time": "2023-05-04T06:42:13.080027Z",
     "end_time": "2023-05-04T06:42:13.244893Z"
    }
   }
  },
  {
   "cell_type": "code",
   "execution_count": null,
   "outputs": [],
   "source": [
    "usersBrowsingData = user_history = np.array(usersBrowsingData).reshape(1, -1)\n",
    "usersBrowsingData.ndim"
   ],
   "metadata": {
    "collapsed": false,
    "ExecuteTime": {
     "start_time": "2023-05-04T06:42:24.801332Z",
     "end_time": "2023-05-04T06:42:24.823858Z"
    }
   }
  },
  {
   "cell_type": "code",
   "execution_count": null,
   "outputs": [],
   "source": [
    "cosineSimilarity = cosine_similarity(pivot_table, usersBrowsingData)\n",
    "cosineSimilarity = cosineSimilarity.flatten()\n",
    "cosineSimilarity"
   ],
   "metadata": {
    "collapsed": false,
    "ExecuteTime": {
     "start_time": "2023-05-04T06:44:10.228583Z",
     "end_time": "2023-05-04T06:44:10.244530Z"
    }
   }
  },
  {
   "cell_type": "code",
   "execution_count": null,
   "outputs": [],
   "source": [
    "topMostVehicles = np.argsort(cosineSimilarity)[::-1][:10]\n",
    "topMostVehicles"
   ],
   "metadata": {
    "collapsed": false,
    "ExecuteTime": {
     "start_time": "2023-05-04T06:45:20.945539Z",
     "end_time": "2023-05-04T06:45:20.977005Z"
    }
   }
  },
  {
   "cell_type": "code",
   "execution_count": null,
   "outputs": [],
   "source": [],
   "metadata": {
    "collapsed": false
   }
  }
 ],
 "metadata": {
  "kernelspec": {
   "display_name": "Python 3 (ipykernel)",
   "language": "python",
   "name": "python3"
  },
  "language_info": {
   "codemirror_mode": {
    "name": "ipython",
    "version": 3
   },
   "file_extension": ".py",
   "mimetype": "text/x-python",
   "name": "python",
   "nbconvert_exporter": "python",
   "pygments_lexer": "ipython3",
   "version": "3.11.1"
  }
 },
 "nbformat": 4,
 "nbformat_minor": 1
}
