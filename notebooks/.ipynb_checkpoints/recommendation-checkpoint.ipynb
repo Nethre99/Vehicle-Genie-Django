{
 "cells": [
  {
   "cell_type": "markdown",
   "metadata": {},
   "source": [
    "## Recommendation Tests to Count accuracy and other stuffs"
   ]
  },
  {
   "cell_type": "code",
   "execution_count": 2,
   "metadata": {},
   "outputs": [],
   "source": [
    "# Import django for jupyter file to import other stuff\n",
    "from django_for_jupyter import init_django\n",
    "init_django(\"VehicleGenie_V1\")"
   ]
  },
  {
   "cell_type": "code",
   "execution_count": 3,
   "metadata": {
    "ExecuteTime": {
     "end_time": "2023-05-01T07:23:00.950009Z",
     "start_time": "2023-05-01T07:23:00.947013Z"
    }
   },
   "outputs": [],
   "source": [
    "# Importing necessary models and modules\n",
    "from app.models import vehicles, UserVehicle\n"
   ]
  }
 ],
 "metadata": {
  "kernelspec": {
   "display_name": "Python 3 (ipykernel)",
   "language": "python",
   "name": "python3"
  },
  "language_info": {
   "codemirror_mode": {
    "name": "ipython",
    "version": 3
   },
   "file_extension": ".py",
   "mimetype": "text/x-python",
   "name": "python",
   "nbconvert_exporter": "python",
   "pygments_lexer": "ipython3",
   "version": "3.11.1"
  }
 },
 "nbformat": 4,
 "nbformat_minor": 1
}
